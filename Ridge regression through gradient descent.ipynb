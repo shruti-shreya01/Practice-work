{
 "cells": [
  {
   "cell_type": "code",
   "execution_count": 51,
   "id": "b6273d67",
   "metadata": {},
   "outputs": [],
   "source": [
    "from sklearn.datasets import load_diabetes\n",
    "from sklearn.metrics import r2_score\n",
    "from sklearn.model_selection import train_test_split\n",
    "from sklearn.linear_model import SGDRegressor\n",
    "from sklearn.linear_model import Ridge\n",
    "import numpy as np"
   ]
  },
  {
   "cell_type": "code",
   "execution_count": 47,
   "id": "1eeb0d2b",
   "metadata": {},
   "outputs": [],
   "source": [
    "x,y= load_diabetes(return_X_y= True)\n",
    "\n",
    "x_train, x_test, y_train, y_test= train_test_split(x,y, test_size=0.2, random_state=14)\n"
   ]
  },
  {
   "cell_type": "code",
   "execution_count": 49,
   "id": "2657d81a",
   "metadata": {},
   "outputs": [
    {
     "name": "stdout",
     "output_type": "stream",
     "text": [
      "0.44312067837875513\n",
      "[  54.45798336 -134.79442898  369.34738731  251.9224577   -26.7534086\n",
      "  -65.85710615 -186.85709373  114.21716266  308.97850422  137.94358356]\n",
      "[145.19529327]\n"
     ]
    }
   ],
   "source": [
    "#using ridge regression in sgd regressor class\n",
    "sgd_reg= SGDRegressor(penalty= 'l2', alpha=0.001, max_iter=1000, eta0= 0.1, learning_rate= 'constant')\n",
    "\n",
    "sgd_reg.fit(x_train, y_train)\n",
    "y_pred_sgd= sgd_reg.predict(x_test)\n",
    "print(r2_score(y_test, y_pred_sgd))\n",
    "print(sgd_reg.coef_)\n",
    "print(sgd_reg.intercept_)"
   ]
  },
  {
   "cell_type": "code",
   "execution_count": 53,
   "id": "a5016090",
   "metadata": {},
   "outputs": [
    {
     "name": "stdout",
     "output_type": "stream",
     "text": [
      "0.4999319288118329\n",
      "[  44.24930306 -239.13057135  491.1778852   331.25583238 -697.99731985\n",
      "  418.90048715   -4.47289054  100.74720183  693.24543795   91.82784186]\n",
      "149.78035431773637\n"
     ]
    }
   ],
   "source": [
    "#using sgd regressor in ridge class\n",
    "ridge_reg= Ridge(alpha=0.001, max_iter=500, solver= 'sparse_cg')\n",
    "\n",
    "ridge_reg.fit(x_train, y_train)\n",
    "y_pred_ridge= ridge_reg.predict(x_test)\n",
    "print(r2_score(y_test, y_pred_ridge))\n",
    "print(ridge_reg.coef_)\n",
    "print(ridge_reg.intercept_)"
   ]
  },
  {
   "cell_type": "markdown",
   "id": "f0f113fe",
   "metadata": {},
   "source": [
    "# Code from scratch"
   ]
  },
  {
   "cell_type": "code",
   "execution_count": 82,
   "id": "97c19361",
   "metadata": {},
   "outputs": [],
   "source": [
    "class MeraRidge:\n",
    "    def __init__(self, learning_rate, alpha, epochs):\n",
    "        self.learning_rate= learning_rate\n",
    "        self.epochs= epochs\n",
    "        self.alpha= alpha\n",
    "        self.coef_= None\n",
    "        self.intercept_= None\n",
    "        \n",
    "    def fit(self, x_train, y_train):\n",
    "        self.coef_= np.ones(x_train.shape[1])\n",
    "        self.intercept_= 0\n",
    "        thetha= np.insert(self.coef_, 0, self.intercept_)\n",
    "        x_train= np.insert(x_train, 0, 1, axis=1)\n",
    "        \n",
    "        for i in range(self.epochs):\n",
    "            thetha_der = np.dot(x_train.T,x_train).dot(thetha) - np.dot(x_train.T,y_train) + self.alpha*thetha\n",
    "            thetha = thetha - (self.learning_rate*thetha_der)\n",
    "            \n",
    "        self.coef_= thetha[1:]\n",
    "        self.intercept_= thetha[0]\n",
    "        \n",
    "    def predict(self,x_test):\n",
    "        \n",
    "        return np.dot(x_test,self.coef_) + self.intercept_"
   ]
  },
  {
   "cell_type": "code",
   "execution_count": 61,
   "id": "8be7ff32",
   "metadata": {},
   "outputs": [
    {
     "data": {
      "text/plain": [
       "array([1, 1, 1, 1, 1, 1, 1, 1, 1, 1, 0])"
      ]
     },
     "execution_count": 61,
     "metadata": {},
     "output_type": "execute_result"
    }
   ],
   "source": [
    "# coef_= np.ones(x_train.shape[1])\n",
    "# intercept_= 0\n",
    "\n",
    "# np.insert(intercept_,0,coef_)"
   ]
  },
  {
   "cell_type": "code",
   "execution_count": 85,
   "id": "279b2799",
   "metadata": {},
   "outputs": [],
   "source": [
    "mera_ridge= MeraRidge(learning_rate= 0.005, alpha=0.001, epochs= 500)"
   ]
  },
  {
   "cell_type": "code",
   "execution_count": 86,
   "id": "716e193a",
   "metadata": {},
   "outputs": [],
   "source": [
    "mera_ridge.fit(x_train,y_train)\n",
    "\n",
    "y_pred_mera = mera_ridge.predict(x_test)"
   ]
  },
  {
   "cell_type": "code",
   "execution_count": 87,
   "id": "8e15baab",
   "metadata": {},
   "outputs": [
    {
     "name": "stdout",
     "output_type": "stream",
     "text": [
      "R2 score 0.486505704561605\n"
     ]
    }
   ],
   "source": [
    "print(\"R2 score\",r2_score(y_test,y_pred_mera))\n",
    "# print(mera_ridge.coef_)\n",
    "# print(mera_ridge.intercept_)"
   ]
  },
  {
   "cell_type": "code",
   "execution_count": null,
   "id": "e7397123",
   "metadata": {},
   "outputs": [],
   "source": []
  }
 ],
 "metadata": {
  "kernelspec": {
   "display_name": "Python 3 (ipykernel)",
   "language": "python",
   "name": "python3"
  },
  "language_info": {
   "codemirror_mode": {
    "name": "ipython",
    "version": 3
   },
   "file_extension": ".py",
   "mimetype": "text/x-python",
   "name": "python",
   "nbconvert_exporter": "python",
   "pygments_lexer": "ipython3",
   "version": "3.11.5"
  }
 },
 "nbformat": 4,
 "nbformat_minor": 5
}
