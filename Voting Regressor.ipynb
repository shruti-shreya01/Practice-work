{
 "cells": [
  {
   "cell_type": "code",
   "execution_count": 4,
   "id": "ae267be1",
   "metadata": {},
   "outputs": [],
   "source": [
    "from sklearn.datasets import load_breast_cancer\n",
    "import numpy as np\n",
    "import pandas as pd"
   ]
  },
  {
   "cell_type": "code",
   "execution_count": 5,
   "id": "155d38d6",
   "metadata": {},
   "outputs": [],
   "source": [
    "x,y= load_breast_cancer(return_X_y=True)"
   ]
  },
  {
   "cell_type": "code",
   "execution_count": 7,
   "id": "d0f0f169",
   "metadata": {},
   "outputs": [
    {
     "data": {
      "text/plain": [
       "(569, 30)"
      ]
     },
     "execution_count": 7,
     "metadata": {},
     "output_type": "execute_result"
    }
   ],
   "source": [
    "x.shape"
   ]
  },
  {
   "cell_type": "code",
   "execution_count": 8,
   "id": "a5ce375e",
   "metadata": {},
   "outputs": [
    {
     "data": {
      "text/plain": [
       "(569,)"
      ]
     },
     "execution_count": 8,
     "metadata": {},
     "output_type": "execute_result"
    }
   ],
   "source": [
    "y.shape"
   ]
  },
  {
   "cell_type": "code",
   "execution_count": 9,
   "id": "d5340e63",
   "metadata": {},
   "outputs": [],
   "source": [
    "from sklearn.linear_model import LinearRegression\n",
    "from sklearn.tree import DecisionTreeRegressor\n",
    "from sklearn.svm import SVR\n",
    "from sklearn.model_selection import cross_val_score"
   ]
  },
  {
   "cell_type": "code",
   "execution_count": 10,
   "id": "5ff37bf8",
   "metadata": {},
   "outputs": [],
   "source": [
    "lr= LinearRegression()\n",
    "dt= DecisionTreeRegressor()\n",
    "svr= SVR()"
   ]
  },
  {
   "cell_type": "code",
   "execution_count": 11,
   "id": "948decc5",
   "metadata": {},
   "outputs": [],
   "source": [
    "estimators = [('lr',lr),('dt',dt),('svr',svr)]"
   ]
  },
  {
   "cell_type": "code",
   "execution_count": 13,
   "id": "4b73d880",
   "metadata": {},
   "outputs": [
    {
     "name": "stdout",
     "output_type": "stream",
     "text": [
      "lr 0.68\n",
      "dt 0.61\n",
      "svr 0.66\n"
     ]
    }
   ],
   "source": [
    "for estimator in estimators:\n",
    "    scores= cross_val_score(estimator[1],x,y,cv=10, scoring='r2')\n",
    "    print(estimator[0], np.round(np.mean(scores),2))"
   ]
  },
  {
   "cell_type": "code",
   "execution_count": 14,
   "id": "b2549022",
   "metadata": {},
   "outputs": [],
   "source": [
    "from sklearn.ensemble import VotingRegressor"
   ]
  },
  {
   "cell_type": "code",
   "execution_count": 16,
   "id": "475924a4",
   "metadata": {},
   "outputs": [
    {
     "name": "stdout",
     "output_type": "stream",
     "text": [
      "Voting Regressor 0.78\n"
     ]
    }
   ],
   "source": [
    "vr = VotingRegressor(estimators)\n",
    "scores = cross_val_score(vr,x,y,scoring='r2',cv=10)\n",
    "print(\"Voting Regressor\",np.round(np.mean(scores),2))"
   ]
  },
  {
   "cell_type": "code",
   "execution_count": 17,
   "id": "11ad1b7a",
   "metadata": {},
   "outputs": [],
   "source": [
    "# weighted voting"
   ]
  },
  {
   "cell_type": "code",
   "execution_count": 19,
   "id": "cf86af1b",
   "metadata": {},
   "outputs": [
    {
     "name": "stdout",
     "output_type": "stream",
     "text": [
      "For i=1,j=1,k=1 0.79\n",
      "For i=1,j=1,k=2 0.77\n",
      "For i=1,j=1,k=3 0.75\n",
      "For i=1,j=2,k=1 0.76\n",
      "For i=1,j=2,k=2 0.77\n",
      "For i=1,j=2,k=3 0.77\n",
      "For i=1,j=3,k=1 0.76\n",
      "For i=1,j=3,k=2 0.77\n",
      "For i=1,j=3,k=3 0.75\n",
      "For i=2,j=1,k=1 0.77\n",
      "For i=2,j=1,k=2 0.76\n",
      "For i=2,j=1,k=3 0.76\n",
      "For i=2,j=2,k=1 0.79\n",
      "For i=2,j=2,k=2 0.77\n",
      "For i=2,j=2,k=3 0.77\n",
      "For i=2,j=3,k=1 0.77\n",
      "For i=2,j=3,k=2 0.78\n",
      "For i=2,j=3,k=3 0.78\n",
      "For i=3,j=1,k=1 0.76\n",
      "For i=3,j=1,k=2 0.77\n",
      "For i=3,j=1,k=3 0.76\n",
      "For i=3,j=2,k=1 0.76\n",
      "For i=3,j=2,k=2 0.77\n",
      "For i=3,j=2,k=3 0.76\n",
      "For i=3,j=3,k=1 0.79\n",
      "For i=3,j=3,k=2 0.78\n",
      "For i=3,j=3,k=3 0.76\n"
     ]
    }
   ],
   "source": [
    "for i in range(1,4):\n",
    "  for j in range(1,4):\n",
    "    for k in range(1,4):\n",
    "      vr = VotingRegressor(estimators,weights=[i,j,k])\n",
    "      scores = cross_val_score(vr,x,y,scoring='r2',cv=10)\n",
    "      print(\"For i={},j={},k={}\".format(i,j,k),np.round(np.mean(scores),2))"
   ]
  },
  {
   "cell_type": "markdown",
   "id": "20a54e2e",
   "metadata": {},
   "source": [
    "# Using same algo"
   ]
  },
  {
   "cell_type": "code",
   "execution_count": 20,
   "id": "d1f6ae20",
   "metadata": {},
   "outputs": [],
   "source": [
    "dt1 = DecisionTreeRegressor(max_depth=1)\n",
    "dt2 = DecisionTreeRegressor(max_depth=3)\n",
    "dt3 = DecisionTreeRegressor(max_depth=5)\n",
    "dt4 = DecisionTreeRegressor(max_depth=7)\n",
    "dt5 = DecisionTreeRegressor(max_depth=None)"
   ]
  },
  {
   "cell_type": "code",
   "execution_count": 21,
   "id": "3e270f9f",
   "metadata": {},
   "outputs": [],
   "source": [
    "estimators = [('dt1',dt1),('dt2',dt2),('dt3',dt3),('dt4',dt4),('dt5',dt5)]"
   ]
  },
  {
   "cell_type": "code",
   "execution_count": 23,
   "id": "4e29ec78",
   "metadata": {},
   "outputs": [
    {
     "name": "stdout",
     "output_type": "stream",
     "text": [
      "dt1 0.45\n",
      "dt2 0.69\n",
      "dt3 0.69\n",
      "dt4 0.66\n",
      "dt5 0.6\n"
     ]
    }
   ],
   "source": [
    "for estimator in estimators:\n",
    "  scores = cross_val_score(estimator[1],x,y,scoring='r2',cv=10)\n",
    "  print(estimator[0],np.round(np.mean(scores),2))"
   ]
  },
  {
   "cell_type": "code",
   "execution_count": 24,
   "id": "ce229168",
   "metadata": {},
   "outputs": [
    {
     "name": "stdout",
     "output_type": "stream",
     "text": [
      "Voting Regressor 0.74\n"
     ]
    }
   ],
   "source": [
    "vr = VotingRegressor(estimators)\n",
    "scores = cross_val_score(vr,x,y,scoring='r2',cv=10)\n",
    "print(\"Voting Regressor\",np.round(np.mean(scores),2))"
   ]
  },
  {
   "cell_type": "code",
   "execution_count": null,
   "id": "04c67350",
   "metadata": {},
   "outputs": [],
   "source": []
  }
 ],
 "metadata": {
  "kernelspec": {
   "display_name": "Python 3 (ipykernel)",
   "language": "python",
   "name": "python3"
  },
  "language_info": {
   "codemirror_mode": {
    "name": "ipython",
    "version": 3
   },
   "file_extension": ".py",
   "mimetype": "text/x-python",
   "name": "python",
   "nbconvert_exporter": "python",
   "pygments_lexer": "ipython3",
   "version": "3.11.5"
  }
 },
 "nbformat": 4,
 "nbformat_minor": 5
}
